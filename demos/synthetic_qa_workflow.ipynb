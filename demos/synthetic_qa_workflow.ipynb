{
 "cells": [
  {
   "cell_type": "code",
   "execution_count": 1,
   "metadata": {},
   "outputs": [],
   "source": [
    "import logging\n",
    "import os\n",
    "\n",
    "os.chdir('d:/genai/genaipy-lib/')\n",
    "\n",
    "# Logging settings\n",
    "logging.basicConfig(level=logging.INFO, format='%(asctime)s - %(levelname)s - %(message)s')\n",
    "\n",
    "# PDF SETTINGS\n",
    "PDF_URL = \"demos/data/aia_eu_proposal.pdf\" # AI Act\n",
    "START = 44\n",
    "END = 45\n",
    "\n",
    "# LLM SETTINGS\n",
    "LLM = \"gpt-4-1106-preview\"\n",
    "SYS_MESSAGE = \"You are an expert in AI law and excell at communicating complex regulations and legal requirements in plain English.\" #TODO: refine system message for specific document\n",
    "NUM_QUESTIONS = 3"
   ]
  },
  {
   "cell_type": "code",
   "execution_count": 2,
   "metadata": {},
   "outputs": [
    {
     "name": "stdout",
     "output_type": "stream",
     "text": [
      "Successfully loaded text from 2 PDF pages.\n"
     ]
    }
   ],
   "source": [
    "from genaipy.extractors.pdf import extract_pages_text\n",
    "\n",
    "pages = extract_pages_text(pdf_path=PDF_URL, start_page=START, end_page=END)\n",
    "print(f\"Successfully loaded text from {len(pages)} PDF pages.\")"
   ]
  },
  {
   "cell_type": "code",
   "execution_count": 3,
   "metadata": {},
   "outputs": [
    {
     "name": "stderr",
     "output_type": "stream",
     "text": [
      "2024-01-17 12:52:44,810 - INFO - NumExpr defaulting to 8 threads.\n"
     ]
    },
    {
     "data": {
      "application/vnd.jupyter.widget-view+json": {
       "model_id": "a733b3ca2952422f9be3038cd45cd548",
       "version_major": 2,
       "version_minor": 0
      },
      "text/plain": [
       "Generating Q&A pairs...:   0%|          | 0/2 [00:00<?, ?it/s]"
      ]
     },
     "metadata": {},
     "output_type": "display_data"
    },
    {
     "name": "stderr",
     "output_type": "stream",
     "text": [
      "2024-01-17 12:53:22,862 - INFO - Successfully completed Chat API request. Total token usage: 1136\n",
      "2024-01-17 12:53:22,872 - INFO - Created Q&A pairs for sample #1\n",
      "2024-01-17 12:53:59,057 - INFO - Successfully completed Chat API request. Total token usage: 1228\n",
      "2024-01-17 12:53:59,059 - INFO - Created Q&A pairs for sample #2\n"
     ]
    }
   ],
   "source": [
    "from tqdm.notebook import tqdm\n",
    "\n",
    "from genaipy.utilities import convert_json_to_df\n",
    "from genaipy.openai_apis.chat import get_chat_response\n",
    "from genaipy.prompts.build_prompt import build_prompt\n",
    "from genaipy.prompts.generate_qa import GENERATE_QA_TPL\n",
    "\n",
    "qa_dataset = []\n",
    "for page in tqdm(pages, desc=\"Generating Q&A pairs...\"):\n",
    "    try:\n",
    "        qa_prompt = build_prompt(template=GENERATE_QA_TPL, num=NUM_QUESTIONS, text=pages[page][\"content\"])\n",
    "        qa_response = get_chat_response(prompt=qa_prompt,\n",
    "                                   sys_message=SYS_MESSAGE,\n",
    "                                   model=LLM,\n",
    "                                   response_format={\"type\": \"json_object\"})\n",
    "        qa_df = convert_json_to_df(qa_response)\n",
    "        qa_dataset.append(qa_df)\n",
    "        logging.info(\"Created Q&A pairs for sample #%d\", page)\n",
    "    except Exception as e:\n",
    "        logging.error(\"An error occured while generating Q&A sample #%d\", page)"
   ]
  },
  {
   "cell_type": "code",
   "execution_count": 4,
   "metadata": {},
   "outputs": [
    {
     "data": {
      "text/html": [
       "<div>\n",
       "<style scoped>\n",
       "    .dataframe tbody tr th:only-of-type {\n",
       "        vertical-align: middle;\n",
       "    }\n",
       "\n",
       "    .dataframe tbody tr th {\n",
       "        vertical-align: top;\n",
       "    }\n",
       "\n",
       "    .dataframe thead th {\n",
       "        text-align: right;\n",
       "    }\n",
       "</style>\n",
       "<table border=\"1\" class=\"dataframe\">\n",
       "  <thead>\n",
       "    <tr style=\"text-align: right;\">\n",
       "      <th></th>\n",
       "      <th>question</th>\n",
       "      <th>answer</th>\n",
       "    </tr>\n",
       "  </thead>\n",
       "  <tbody>\n",
       "    <tr>\n",
       "      <th>0</th>\n",
       "      <td>What actions are prohibited regarding the use ...</td>\n",
       "      <td>The text outlines several actions that are pro...</td>\n",
       "    </tr>\n",
       "    <tr>\n",
       "      <th>1</th>\n",
       "      <td>What powers does the Commission have with rega...</td>\n",
       "      <td>The Commission is given the power to adapt and...</td>\n",
       "    </tr>\n",
       "    <tr>\n",
       "      <th>2</th>\n",
       "      <td>Under what condition can real-time remote biom...</td>\n",
       "      <td>The use of real-time remote biometric identifi...</td>\n",
       "    </tr>\n",
       "    <tr>\n",
       "      <th>3</th>\n",
       "      <td>What are the specific instances in which law e...</td>\n",
       "      <td>Law enforcement can use real-time remote biome...</td>\n",
       "    </tr>\n",
       "    <tr>\n",
       "      <th>4</th>\n",
       "      <td>Before using real-time remote biometric identi...</td>\n",
       "      <td>Before using such systems, law enforcement mus...</td>\n",
       "    </tr>\n",
       "    <tr>\n",
       "      <th>5</th>\n",
       "      <td>What is the procedure for law enforcement to o...</td>\n",
       "      <td>Generally, law enforcement must obtain prior a...</td>\n",
       "    </tr>\n",
       "  </tbody>\n",
       "</table>\n",
       "</div>"
      ],
      "text/plain": [
       "                                            question  \\\n",
       "0  What actions are prohibited regarding the use ...   \n",
       "1  What powers does the Commission have with rega...   \n",
       "2  Under what condition can real-time remote biom...   \n",
       "3  What are the specific instances in which law e...   \n",
       "4  Before using real-time remote biometric identi...   \n",
       "5  What is the procedure for law enforcement to o...   \n",
       "\n",
       "                                              answer  \n",
       "0  The text outlines several actions that are pro...  \n",
       "1  The Commission is given the power to adapt and...  \n",
       "2  The use of real-time remote biometric identifi...  \n",
       "3  Law enforcement can use real-time remote biome...  \n",
       "4  Before using such systems, law enforcement mus...  \n",
       "5  Generally, law enforcement must obtain prior a...  "
      ]
     },
     "execution_count": 4,
     "metadata": {},
     "output_type": "execute_result"
    }
   ],
   "source": [
    "import pandas as pd \n",
    "\n",
    "final_df = pd.concat(qa_dataset, ignore_index=True) \n",
    "final_df.head(n=5)"
   ]
  },
  {
   "cell_type": "code",
   "execution_count": 8,
   "metadata": {},
   "outputs": [
    {
     "name": "stdout",
     "output_type": "stream",
     "text": [
      "[{'messages': [{'role': 'system', 'content': 'You are an expert in AI law and excell at communicating complex regulations and legal requirements in simple, non-technical English.'}, {'role': 'user', 'content': 'What actions are prohibited regarding the use of AI systems according to the text?'}, {'role': 'assistant', 'content': 'The text outlines several actions that are prohibited when using AI systems. These include: (a) using AI systems that manipulate behavior by using subliminal techniques unbeknownst to the individual that could harm someone physically or psychologically; (b) using AI systems that exploit the vulnerabilities of individuals, particularly those in specific groups like those with disabilities or the elderly, to similarly distort behavior resulting in physical or psychological harm; (c) using AI for assessing or scoring individuals’ trustworthiness by public authorities, based on their social behavior or predicted personal traits, leading to negative consequences in unrelated social contexts or disproportionate to the behavior; (d) real-time, remote biometric identification in public spaces for law enforcement, unless it is strictly necessary for specific and serious purposes.'}]}, {'messages': [{'role': 'system', 'content': 'You are an expert in AI law and excell at communicating complex regulations and legal requirements in simple, non-technical English.'}, {'role': 'user', 'content': 'What powers does the Commission have with regard to updating the list of techniques and approaches in AI?'}, {'role': 'assistant', 'content': 'The Commission is given the power to adapt and update the list of techniques and approaches concerning AI that are found in Annex I. They do this through delegated acts, in keeping with Article 73. The purpose of these updates is to keep pace with market and technology evolution, ensuring that any new techniques or approaches that are similar to those currently listed can be included. This helps to maintain the relevancy and effectiveness of AI regulations.'}]}, {'messages': [{'role': 'system', 'content': 'You are an expert in AI law and excell at communicating complex regulations and legal requirements in simple, non-technical English.'}, {'role': 'user', 'content': 'Under what condition can real-time remote biometric identification systems be used by law enforcement in public spaces?'}, {'role': 'assistant', 'content': \"The use of real-time remote biometric identification systems by law enforcement in publicly accessible spaces is generally prohibited. However, an exception is made when such use is 'strictly necessary' for certain serious objectives. These exceptions might include, for example, situations that require immediate response for security or safety reasons such as locating a missing person, preventing a specific and imminent threat to life or physical safety, or responding to a serious crime. These uses are heavily restricted and are the only conditions under which this technology can be employed according to the law discussed in the text.\"}]}, {'messages': [{'role': 'system', 'content': 'You are an expert in AI law and excell at communicating complex regulations and legal requirements in simple, non-technical English.'}, {'role': 'user', 'content': 'What are the specific instances in which law enforcement can use real-time remote biometric identification in public spaces?'}, {'role': 'assistant', 'content': 'Law enforcement can use real-time remote biometric identification in public spaces in three specific situations: (i) to search for specific potential victims of crime, including missing children; (ii) to prevent a substantial and imminent threat to the life or physical safety of people, or a terrorist attack; (iii) to identify, locate, or prosecute a perpetrator or suspect of a serious crime which is punishable by at least three years of imprisonment as per the laws of the Member State.'}]}, {'messages': [{'role': 'system', 'content': 'You are an expert in AI law and excell at communicating complex regulations and legal requirements in simple, non-technical English.'}, {'role': 'user', 'content': 'Before using real-time remote biometric identification systems in public spaces, what conditions must law enforcement consider to ensure compliance?'}, {'role': 'assistant', 'content': 'Before using such systems, law enforcement must consider the nature and severity of the situation, the probability and scale of potential harm if the system is not used, and the impact on the rights and freedoms of the individuals concerned. The use must be necessary, proportionate, and in line with specific limits regarding time, location, and the people involved. There should also be proper safeguards and conditions related to the usage of the system.'}]}, {'messages': [{'role': 'system', 'content': 'You are an expert in AI law and excell at communicating complex regulations and legal requirements in simple, non-technical English.'}, {'role': 'user', 'content': 'What is the procedure for law enforcement to obtain authorization to use real-time remote biometric identification systems in public spaces?'}, {'role': 'assistant', 'content': 'Generally, law enforcement must obtain prior authorization from a judicial or independent administrative authority within the Member State where the system will be used. This authorization is based on objective evidence or clear indications that the use is necessary and proportionate for the objectives specified. In urgent situations, law enforcement can start using the system without prior authorization but must seek it during or after the use. The authority granting the authorization must also consider the nature of the situation, potential consequences, and compliance with necessary safeguards.'}]}]\n"
     ]
    }
   ],
   "source": [
    "from genaipy.utilities import convert_df_to_messages\n",
    "\n",
    "\n",
    "messages = convert_df_to_messages(df=final_df, system_msg=SYS_MESSAGE, user_col=\"question\", assistant_col=\"answer\")\n",
    "print(messages[0])"
   ]
  },
  {
   "cell_type": "code",
   "execution_count": 9,
   "metadata": {},
   "outputs": [
    {
     "name": "stderr",
     "output_type": "stream",
     "text": [
      "2024-01-17 13:05:33,642 - INFO - Data written to JSON Lines file 'test.jsonl'\n"
     ]
    }
   ],
   "source": [
    "from genaipy.utilities import write_data_to_jsonl\n",
    "\n",
    "write_data_to_jsonl(data=messages, file_path=\"test.jsonl\")"
   ]
  }
 ],
 "metadata": {
  "kernelspec": {
   "display_name": "genaipy",
   "language": "python",
   "name": "python3"
  },
  "language_info": {
   "codemirror_mode": {
    "name": "ipython",
    "version": 3
   },
   "file_extension": ".py",
   "mimetype": "text/x-python",
   "name": "python",
   "nbconvert_exporter": "python",
   "pygments_lexer": "ipython3",
   "version": "3.11.5"
  }
 },
 "nbformat": 4,
 "nbformat_minor": 2
}
